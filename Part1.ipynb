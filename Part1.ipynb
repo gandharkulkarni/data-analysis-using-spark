{
 "cells": [
  {
   "cell_type": "code",
   "execution_count": null,
   "id": "80f9a798",
   "metadata": {},
   "outputs": [],
   "source": [
    "# Project 3: Spatiotemporal Analysis with Spark (v 1.0)"
   ]
  },
  {
   "cell_type": "code",
   "execution_count": 11,
   "id": "f1f0ed2b",
   "metadata": {
    "scrolled": true
   },
   "outputs": [
    {
     "name": "stderr",
     "output_type": "stream",
     "text": [
      "                                                                                \r"
     ]
    }
   ],
   "source": [
    "from pyspark.sql.functions import udf\n",
    "df = spark.read.load('hdfs://orion11:11001/Project3/part-*-8aab2773-5596-46be-8195-ebf00f58b617-c000.tdv.gz'\n",
    "                     , format='csv', sep='\\t'\n",
    "                     , inferSchema='true'\n",
    "                     , header='true')"
   ]
  },
  {
   "cell_type": "code",
   "execution_count": 12,
   "id": "92739a53",
   "metadata": {},
   "outputs": [
    {
     "data": {
      "text/plain": [
       "[Row(time=1542186000000, lat=26.960126220715807, lon=-89.79374121743808, albedo_surface=6.0, precipitable_water_entire_atmosphere_single_layer=42.71665, pressure_maximum_wind=21520.148, pressure_surface=102031.266, pressure_tropopause=9503.021, relative_humidity_zerodegc_isotherm=97.0, snow_depth_surface=0.0, temperature_surface=300.1487, temperature_tropopause=199.29172, total_cloud_cover_entire_atmosphere_single_layer=100.0, total_precipitation_surface_3_hour_accumulation=1.125, vegetation_surface=0.0, visibility_surface=24100.0, wilting_point_surface=0.0, wind_speed_gust_surface=16.018291, geohash='dhb1keynn5v9'),\n",
       " Row(time=1542186000000, lat=32.309655275902315, lon=-113.53787741645212, albedo_surface=28.0, precipitable_water_entire_atmosphere_single_layer=4.716647, pressure_maximum_wind=18924.95, pressure_surface=99181.664, pressure_tropopause=16783.822, relative_humidity_zerodegc_isotherm=7.0, snow_depth_surface=0.0, temperature_surface=277.7687, temperature_tropopause=206.5917, total_cloud_cover_entire_atmosphere_single_layer=0.0, total_precipitation_surface_3_hour_accumulation=0.0, vegetation_surface=2.0, visibility_surface=24100.0, wilting_point_surface=0.047, wind_speed_gust_surface=6.8182907, geohash='9mxrb3u1rsq9'),\n",
       " Row(time=1542186000000, lat=27.48415658524732, lon=-115.90575503511252, albedo_surface=6.0, precipitable_water_entire_atmosphere_single_layer=8.416647, pressure_maximum_wind=16712.95, pressure_surface=102164.06, pressure_tropopause=15536.622, relative_humidity_zerodegc_isotherm=5.0, snow_depth_surface=0.0, temperature_surface=294.37872, temperature_tropopause=205.4917, total_cloud_cover_entire_atmosphere_single_layer=0.0, total_precipitation_surface_3_hour_accumulation=0.0, vegetation_surface=0.0, visibility_surface=24100.0, wilting_point_surface=0.0, wind_speed_gust_surface=13.0182905, geohash='9kvs6e24b4hu')]"
      ]
     },
     "execution_count": 12,
     "metadata": {},
     "output_type": "execute_result"
    }
   ],
   "source": [
    "import pygeohash as pgh\n",
    "import pyspark.sql.functions as F\n",
    "geohashEncodeUDF = F.udf(lambda x, y: pgh.encode(x, y))\n",
    "\n",
    "df = df.withColumnRenamed('1_time', 'time').withColumnRenamed('2_lat', 'lat').withColumnRenamed('3_lon', 'lon').withColumnRenamed('_c18', 'geohash')\n",
    "df = df.withColumn('geohash', geohashEncodeUDF(df['lat'], df['lon']))\n",
    "df.take(3)"
   ]
  },
  {
   "cell_type": "code",
   "execution_count": 13,
   "id": "41537f14",
   "metadata": {},
   "outputs": [],
   "source": [
    "df.createOrReplaceTempView(\"df_temp\")"
   ]
  },
  {
   "cell_type": "code",
   "execution_count": 7,
   "id": "324cdf80",
   "metadata": {},
   "outputs": [
    {
     "name": "stderr",
     "output_type": "stream",
     "text": [
      "                                                                                \r"
     ]
    }
   ],
   "source": [
    "#Strangely Snowy: Find a location that contains snow while its surroundings do not. Why does this occur? Is it a \n",
    "#high mountain peak in a desert?\n",
    "snow_covered_locations = spark.sql(\"select distinct(geohash) from df_temp where snow_depth_surface > 0\").collect()\n",
    "\n",
    "# for row in snow_covered_locations:\n",
    "#     print(row.geohash)"
   ]
  },
  {
   "cell_type": "code",
   "execution_count": 15,
   "id": "cf07590e",
   "metadata": {},
   "outputs": [
    {
     "name": "stderr",
     "output_type": "stream",
     "text": [
      "[Stage 139:====================================================>  (21 + 1) / 22]\r"
     ]
    },
    {
     "name": "stdout",
     "output_type": "stream",
     "text": [
      "strangely snowy place found\n",
      "cold place f2r487vvgzuf\n"
     ]
    },
    {
     "name": "stderr",
     "output_type": "stream",
     "text": [
      "                                                                                \r"
     ]
    }
   ],
   "source": [
    "for row in snow_covered_locations:\n",
    "    snowy = False\n",
    "    length = len(row.geohash)\n",
    "    substring = row.geohash[0: 2] \n",
    "    query = \"SELECT DISTINCT(geohash) FROM df_temp WHERE geohash LIKE '\" + substring + \"%' AND geohash != '\" + row.geohash + \"'\"\n",
    "    neighbor_locations = spark.sql(query).collect()\n",
    "\n",
    "    neighbor = False\n",
    "    for neighbor in neighbor_locations:\n",
    "        neighbor = True\n",
    "        query = \"SELECT count(*) FROM df_temp WHERE geohash = '\" + neighbor.geohash + \"' AND snow_depth_surface > 0.0 HAVING count(*) > 0\"\n",
    "        count = spark.sql(query).collect()\n",
    "\n",
    "        if(len(count) > 0):\n",
    "            snowy = True\n",
    "            break \n",
    "       \n",
    "   \n",
    "    if (snowy == False and neighbor == True):\n",
    "        print(\"strangely snowy place found\")\n",
    "        print(\"cold place \" + row.geohash)\n",
    "        break;\n"
   ]
  },
  {
   "cell_type": "code",
   "execution_count": 8,
   "id": "eb27b231",
   "metadata": {},
   "outputs": [
    {
     "name": "stderr",
     "output_type": "stream",
     "text": [
      "                                                                                \r"
     ]
    }
   ],
   "source": [
    "details_of_location = spark.sql(\"select * from df_temp where geohash ='f2r487vvgzuf'\").collect()\n",
    "# print(details_of_location)"
   ]
  },
  {
   "cell_type": "markdown",
   "id": "14c4b89a",
   "metadata": {},
   "source": [
    "TimeTaken to execute query: 1hr 23 mins\n",
    "The point is around Eagle Lake, ME, hence it is snowy. Eagle Lake is located in northern Maine, which experiences cold winters with significant snowfall. The region's climate is classified as a continental climate, characterized by cold winters and warm summers. The average snowfall in this area can vary.\n"
   ]
  },
  {
   "cell_type": "code",
   "execution_count": 19,
   "id": "23430f6e",
   "metadata": {},
   "outputs": [
    {
     "name": "stderr",
     "output_type": "stream",
     "text": [
      "                                                                                \r"
     ]
    }
   ],
   "source": [
    "#Climate Chart: Given a Geohash prefix as an input, build a function that will create a climate chart for the region.\n",
    "#This includes high, low, and average temperatures, as well as monthly average rainfall (precipitation). Here’s a \n",
    "#(poor quality) script that will generate this for you, but you should probably modify it to make sure your units, \n",
    "#scale, etc. are all presented in a readable fashion.\n",
    "\n",
    "# '9q8y' San Francisco\n",
    "climatechart = spark.sql( \"SELECT  \\\n",
    "                            MONTH(FROM_UNIXTIME(time/1000)) as month, \\\n",
    "                            min(temperature_surface) as mintemperature, \\\n",
    "                            max(temperature_surface) as maxtemperature, \\\n",
    "                            avg(temperature_surface) as windspeed, \\\n",
    "                            avg(precipitable_water_entire_atmosphere_single_layer) as avgprecipitation \\\n",
    "                        FROM df_temp \\\n",
    "                        WHERE \\\n",
    "                            geohash like '9q8y%' \\\n",
    "                        GROUP BY \\\n",
    "                            MONTH(FROM_UNIXTIME(time/1000)) order by month\").collect()\n"
   ]
  },
  {
   "cell_type": "code",
   "execution_count": 20,
   "id": "aacd556d",
   "metadata": {},
   "outputs": [
    {
     "name": "stdout",
     "output_type": "stream",
     "text": [
      "1 287.31268 280.58478 18.122153010869567 286.09792543478255\n",
      "2 294.08905 279.73398 10.51255908181818 285.0857968181818\n",
      "3 298.1007 280.39893 13.227399359183677 285.6007559183673\n",
      "4 288.70123 283.14417 14.7388813106383 286.1134661702128\n",
      "5 299.49 284.91513 18.91990586065574 287.0655240983607\n",
      "6 293.3207 285.35416 14.831884346938775 287.5678455102041\n",
      "7 302.7684 286.11072 22.12117175510204 289.31127775510197\n",
      "8 301.43997 286.58633 17.377214108695654 289.50044565217394\n",
      "9 298.28876 285.82037 14.924881104545454 288.94066181818175\n",
      "10 297.72638 285.5869 18.479864312765958 289.39579106382973\n",
      "11 294.27374 282.37433 15.484264729268292 288.22323902439024\n",
      "12 288.9798 279.8313 16.559842177777774 286.841882\n"
     ]
    }
   ],
   "source": [
    "for row in climatechart:\n",
    "    print(f\"{row.month} {row.maxtemperature} {row.mintemperature} {row.avgprecipitation} {row.windspeed}\")"
   ]
  },
  {
   "cell_type": "code",
   "execution_count": 14,
   "id": "f99f42cd",
   "metadata": {},
   "outputs": [
    {
     "name": "stderr",
     "output_type": "stream",
     "text": [
      "                                                                                \r"
     ]
    }
   ],
   "source": [
    "# Travel Startup: After graduating from USF, you found a startup that aims to provide personalized travel itineraries \n",
    "# using big data analysis. Given your own personal preferences, build a plan for a year of travel across 5 locations.\n",
    "# Or, in other words: pick 5 regions. What is the best time of year to visit them based on the dataset?\n",
    "# Part of this involves determining the comfort index for a region. You could incorporate several features: not too hot,\n",
    "# not too cold, dry, humid, windy, etc. There are several different ways of calculating this available online, and you \n",
    "# could also analyze how well your own metrics do.\n",
    "# Another part of this involves presentation. You have to convince your potential customers that your travel itinerary \n",
    "# is better than something they could come up with themselves with a little Googling. You can use pictures, information \n",
    "# about local points of interest, etc.\n",
    "\n",
    "relative_humidity_zerodegc_isotherm = 45\n",
    "temperature_surface = 299\n",
    "total_cloud_cover_entire_atmosphere = 60 \n",
    "# Grand canyon 9qrhf6btbt3jevhn\n",
    "# Panhandle san francisco 9q8yvs4t\n",
    "# New york dr5regw2z6y\n",
    "# Fresno 9qd23ynghrrz\n",
    "# Colorado 9x58\n",
    "\n",
    "traveldata = spark.sql( \"SELECT  \\\n",
    "                            substring(geohash, 0, 4) as region, \\\n",
    "                            MONTH(FROM_UNIXTIME(time/1000)) as month, \\\n",
    "                            AVG(temperature_surface) as temperature, \\\n",
    "                            AVG(relative_humidity_zerodegc_isotherm) as humdity, \\\n",
    "                            AVG(wind_speed_gust_surface) as windspeed, \\\n",
    "                            AVG(total_cloud_cover_entire_atmosphere_single_layer) as cloudcover \\\n",
    "                        FROM df_temp \\\n",
    "                        WHERE \\\n",
    "                            Geohash like '9qd2%' or \\\n",
    "                            Geohash like 'dr5r%' or \\\n",
    "                            Geohash like '9q8y%' or \\\n",
    "                            Geohash like '9qrh%' or  \\\n",
    "                            Geohash like '9x58%'  \\\n",
    "                        GROUP BY \\\n",
    "                            MONTH(FROM_UNIXTIME(time/1000)), \\\n",
    "                            substring(geohash, 0, 4)\").collect()"
   ]
  },
  {
   "cell_type": "code",
   "execution_count": 15,
   "id": "6a6a4637",
   "metadata": {
    "scrolled": true
   },
   "outputs": [
    {
     "name": "stdout",
     "output_type": "stream",
     "text": [
      "dr5r 8 \n",
      "9qrh 12 \n",
      "9qd2 12 \n",
      "9q8y 11 \n",
      "9qd2 1 \n",
      "9q8y 1 \n",
      "dr5r 6 \n",
      "9qrh 1 \n",
      "9q8y 12 \n",
      "9q8y 5 \n",
      "9qd2 3 \n",
      "9qrh 3 \n",
      "9q8y 7 \n",
      "9x58 9 \n",
      "dr5r 7 \n",
      "dr5r 5 \n",
      "9q8y 4 \n",
      "9q8y 3 \n",
      "dr5r 10 \n"
     ]
    },
    {
     "data": {
      "text/html": [
       "<div style=\"width:100%;\"><div style=\"position:relative;width:100%;height:0;padding-bottom:60%;\"><span style=\"color:#565656\">Make this Notebook Trusted to load map: File -> Trust Notebook</span><iframe srcdoc=\"&lt;!DOCTYPE html&gt;\n",
       "&lt;html&gt;\n",
       "&lt;head&gt;\n",
       "    \n",
       "    &lt;meta http-equiv=&quot;content-type&quot; content=&quot;text/html; charset=UTF-8&quot; /&gt;\n",
       "    \n",
       "        &lt;script&gt;\n",
       "            L_NO_TOUCH = false;\n",
       "            L_DISABLE_3D = false;\n",
       "        &lt;/script&gt;\n",
       "    \n",
       "    &lt;style&gt;html, body {width: 100%;height: 100%;margin: 0;padding: 0;}&lt;/style&gt;\n",
       "    &lt;style&gt;#map {position:absolute;top:0;bottom:0;right:0;left:0;}&lt;/style&gt;\n",
       "    &lt;script src=&quot;https://cdn.jsdelivr.net/npm/leaflet@1.9.3/dist/leaflet.js&quot;&gt;&lt;/script&gt;\n",
       "    &lt;script src=&quot;https://code.jquery.com/jquery-1.12.4.min.js&quot;&gt;&lt;/script&gt;\n",
       "    &lt;script src=&quot;https://cdn.jsdelivr.net/npm/bootstrap@5.2.2/dist/js/bootstrap.bundle.min.js&quot;&gt;&lt;/script&gt;\n",
       "    &lt;script src=&quot;https://cdnjs.cloudflare.com/ajax/libs/Leaflet.awesome-markers/2.0.2/leaflet.awesome-markers.js&quot;&gt;&lt;/script&gt;\n",
       "    &lt;link rel=&quot;stylesheet&quot; href=&quot;https://cdn.jsdelivr.net/npm/leaflet@1.9.3/dist/leaflet.css&quot;/&gt;\n",
       "    &lt;link rel=&quot;stylesheet&quot; href=&quot;https://cdn.jsdelivr.net/npm/bootstrap@5.2.2/dist/css/bootstrap.min.css&quot;/&gt;\n",
       "    &lt;link rel=&quot;stylesheet&quot; href=&quot;https://netdna.bootstrapcdn.com/bootstrap/3.0.0/css/bootstrap.min.css&quot;/&gt;\n",
       "    &lt;link rel=&quot;stylesheet&quot; href=&quot;https://cdn.jsdelivr.net/npm/@fortawesome/fontawesome-free@6.2.0/css/all.min.css&quot;/&gt;\n",
       "    &lt;link rel=&quot;stylesheet&quot; href=&quot;https://cdnjs.cloudflare.com/ajax/libs/Leaflet.awesome-markers/2.0.2/leaflet.awesome-markers.css&quot;/&gt;\n",
       "    &lt;link rel=&quot;stylesheet&quot; href=&quot;https://cdn.jsdelivr.net/gh/python-visualization/folium/folium/templates/leaflet.awesome.rotate.min.css&quot;/&gt;\n",
       "    \n",
       "            &lt;meta name=&quot;viewport&quot; content=&quot;width=device-width,\n",
       "                initial-scale=1.0, maximum-scale=1.0, user-scalable=no&quot; /&gt;\n",
       "            &lt;style&gt;\n",
       "                #map_76be60700169726d31a97157e070df72 {\n",
       "                    position: relative;\n",
       "                    width: 100.0%;\n",
       "                    height: 100.0%;\n",
       "                    left: 0.0%;\n",
       "                    top: 0.0%;\n",
       "                }\n",
       "                .leaflet-container { font-size: 1rem; }\n",
       "            &lt;/style&gt;\n",
       "        \n",
       "&lt;/head&gt;\n",
       "&lt;body&gt;\n",
       "    \n",
       "    \n",
       "            &lt;div class=&quot;folium-map&quot; id=&quot;map_76be60700169726d31a97157e070df72&quot; &gt;&lt;/div&gt;\n",
       "        \n",
       "&lt;/body&gt;\n",
       "&lt;script&gt;\n",
       "    \n",
       "    \n",
       "            var map_76be60700169726d31a97157e070df72 = L.map(\n",
       "                &quot;map_76be60700169726d31a97157e070df72&quot;,\n",
       "                {\n",
       "                    center: [37.0902, -95.7129],\n",
       "                    crs: L.CRS.EPSG3857,\n",
       "                    zoom: 4,\n",
       "                    zoomControl: true,\n",
       "                    preferCanvas: false,\n",
       "                }\n",
       "            );\n",
       "\n",
       "            \n",
       "\n",
       "        \n",
       "    \n",
       "            var tile_layer_69be4ceee82968329493be0632b6a76b = L.tileLayer(\n",
       "                &quot;https://{s}.tile.openstreetmap.org/{z}/{x}/{y}.png&quot;,\n",
       "                {&quot;attribution&quot;: &quot;Data by \\u0026copy; \\u003ca target=\\&quot;_blank\\&quot; href=\\&quot;http://openstreetmap.org\\&quot;\\u003eOpenStreetMap\\u003c/a\\u003e, under \\u003ca target=\\&quot;_blank\\&quot; href=\\&quot;http://www.openstreetmap.org/copyright\\&quot;\\u003eODbL\\u003c/a\\u003e.&quot;, &quot;detectRetina&quot;: false, &quot;maxNativeZoom&quot;: 18, &quot;maxZoom&quot;: 18, &quot;minZoom&quot;: 0, &quot;noWrap&quot;: false, &quot;opacity&quot;: 1, &quot;subdomains&quot;: &quot;abc&quot;, &quot;tms&quot;: false}\n",
       "            ).addTo(map_76be60700169726d31a97157e070df72);\n",
       "        \n",
       "    \n",
       "            var marker_12441d3dc29740f407c003f93269f31b = L.marker(\n",
       "                [38.0, -123.0],\n",
       "                {}\n",
       "            ).addTo(map_76be60700169726d31a97157e070df72);\n",
       "        \n",
       "    \n",
       "        var popup_3e64e1d8ae18b8eb7c4aa676f5fa8476 = L.popup({&quot;maxWidth&quot;: &quot;100%&quot;});\n",
       "\n",
       "        \n",
       "            \n",
       "                var html_1e465316ac3a1044d742c07738914a95 = $(`&lt;div id=&quot;html_1e465316ac3a1044d742c07738914a95&quot; style=&quot;width: 100.0%; height: 100.0%;&quot;&gt;9q8y&lt;/div&gt;`)[0];\n",
       "                popup_3e64e1d8ae18b8eb7c4aa676f5fa8476.setContent(html_1e465316ac3a1044d742c07738914a95);\n",
       "            \n",
       "        \n",
       "\n",
       "        marker_12441d3dc29740f407c003f93269f31b.bindPopup(popup_3e64e1d8ae18b8eb7c4aa676f5fa8476)\n",
       "        ;\n",
       "\n",
       "        \n",
       "    \n",
       "    \n",
       "            var marker_74d6d6b4b38ee908bc0a601e487ff7b0 = L.marker(\n",
       "                [36.0, -114.0],\n",
       "                {}\n",
       "            ).addTo(map_76be60700169726d31a97157e070df72);\n",
       "        \n",
       "    \n",
       "        var popup_73e939afac778d8b66671f72127b84cc = L.popup({&quot;maxWidth&quot;: &quot;100%&quot;});\n",
       "\n",
       "        \n",
       "            \n",
       "                var html_ef3368895c271b30b262f54af740bc13 = $(`&lt;div id=&quot;html_ef3368895c271b30b262f54af740bc13&quot; style=&quot;width: 100.0%; height: 100.0%;&quot;&gt;9qrh&lt;/div&gt;`)[0];\n",
       "                popup_73e939afac778d8b66671f72127b84cc.setContent(html_ef3368895c271b30b262f54af740bc13);\n",
       "            \n",
       "        \n",
       "\n",
       "        marker_74d6d6b4b38ee908bc0a601e487ff7b0.bindPopup(popup_73e939afac778d8b66671f72127b84cc)\n",
       "        ;\n",
       "\n",
       "        \n",
       "    \n",
       "    \n",
       "            var marker_43b673bcca2d403ca799468f582f0f60 = L.marker(\n",
       "                [41.0, -74.0],\n",
       "                {}\n",
       "            ).addTo(map_76be60700169726d31a97157e070df72);\n",
       "        \n",
       "    \n",
       "        var popup_1d527f350403c7db3f0b1bb574f731f4 = L.popup({&quot;maxWidth&quot;: &quot;100%&quot;});\n",
       "\n",
       "        \n",
       "            \n",
       "                var html_72efdd7b76b11e9eaaa6f5a47e5d27dd = $(`&lt;div id=&quot;html_72efdd7b76b11e9eaaa6f5a47e5d27dd&quot; style=&quot;width: 100.0%; height: 100.0%;&quot;&gt;dr5r&lt;/div&gt;`)[0];\n",
       "                popup_1d527f350403c7db3f0b1bb574f731f4.setContent(html_72efdd7b76b11e9eaaa6f5a47e5d27dd);\n",
       "            \n",
       "        \n",
       "\n",
       "        marker_43b673bcca2d403ca799468f582f0f60.bindPopup(popup_1d527f350403c7db3f0b1bb574f731f4)\n",
       "        ;\n",
       "\n",
       "        \n",
       "    \n",
       "    \n",
       "            var marker_8cc14940e211e6eeb31389449e4a7f8c = L.marker(\n",
       "                [39.0, -107.0],\n",
       "                {}\n",
       "            ).addTo(map_76be60700169726d31a97157e070df72);\n",
       "        \n",
       "    \n",
       "        var popup_850e1d0e0b5bcd8af4cf6ffdd10e49a3 = L.popup({&quot;maxWidth&quot;: &quot;100%&quot;});\n",
       "\n",
       "        \n",
       "            \n",
       "                var html_90cf8c8805e77a53a4778aa27f812303 = $(`&lt;div id=&quot;html_90cf8c8805e77a53a4778aa27f812303&quot; style=&quot;width: 100.0%; height: 100.0%;&quot;&gt;9x58&lt;/div&gt;`)[0];\n",
       "                popup_850e1d0e0b5bcd8af4cf6ffdd10e49a3.setContent(html_90cf8c8805e77a53a4778aa27f812303);\n",
       "            \n",
       "        \n",
       "\n",
       "        marker_8cc14940e211e6eeb31389449e4a7f8c.bindPopup(popup_850e1d0e0b5bcd8af4cf6ffdd10e49a3)\n",
       "        ;\n",
       "\n",
       "        \n",
       "    \n",
       "    \n",
       "            var marker_4f6a8c595034094625e14208442d7804 = L.marker(\n",
       "                [37.0, -120.0],\n",
       "                {}\n",
       "            ).addTo(map_76be60700169726d31a97157e070df72);\n",
       "        \n",
       "    \n",
       "        var popup_7f2d30798dca1095e783b2c9094793b7 = L.popup({&quot;maxWidth&quot;: &quot;100%&quot;});\n",
       "\n",
       "        \n",
       "            \n",
       "                var html_63c1e3de81c5a162f75781328c712459 = $(`&lt;div id=&quot;html_63c1e3de81c5a162f75781328c712459&quot; style=&quot;width: 100.0%; height: 100.0%;&quot;&gt;9qd2&lt;/div&gt;`)[0];\n",
       "                popup_7f2d30798dca1095e783b2c9094793b7.setContent(html_63c1e3de81c5a162f75781328c712459);\n",
       "            \n",
       "        \n",
       "\n",
       "        marker_4f6a8c595034094625e14208442d7804.bindPopup(popup_7f2d30798dca1095e783b2c9094793b7)\n",
       "        ;\n",
       "\n",
       "        \n",
       "    \n",
       "&lt;/script&gt;\n",
       "&lt;/html&gt;\" style=\"position:absolute;width:100%;height:100%;left:0;top:0;border:none !important;\" allowfullscreen webkitallowfullscreen mozallowfullscreen></iframe></div></div>"
      ],
      "text/plain": [
       "<folium.folium.Map at 0x7f89f053b220>"
      ]
     },
     "execution_count": 15,
     "metadata": {},
     "output_type": "execute_result"
    }
   ],
   "source": [
    "import folium\n",
    "from pygeohash import decode\n",
    "relative_humidity_zerodegc_isotherm = 45\n",
    "temperature_surface = 299\n",
    "total_cloud_cover_entire_atmosphere = 60 \n",
    "region = set()\n",
    "for row in traveldata:\n",
    "    isgood = True\n",
    "    if(row.temperature < (temperature_surface - (temperature_surface * .10)) or  \n",
    "       row.temperature > (temperature_surface + (temperature_surface * .10))):\n",
    "        isgood = False\n",
    "    if(row.humdity < (relative_humidity_zerodegc_isotherm - (relative_humidity_zerodegc_isotherm * .25)) or  \n",
    "       row.humdity > (relative_humidity_zerodegc_isotherm + (relative_humidity_zerodegc_isotherm * .25))):\n",
    "        isgood = False\n",
    "    if(row.cloudcover < (total_cloud_cover_entire_atmosphere - (total_cloud_cover_entire_atmosphere * .50)) or  \n",
    "       row.cloudcover > (total_cloud_cover_entire_atmosphere + (total_cloud_cover_entire_atmosphere * .50))):\n",
    "        isgood = False\n",
    "    if(isgood == True) and len(region) <= 5 :\n",
    "        print(f\"{row.region} {row.month} \")\n",
    "        region.add(row.region)\n",
    "        \n",
    "t = folium.Map(location=[37.0902, -95.7129], zoom_start=4)\n",
    "\n",
    "\n",
    "for g in region:\n",
    "    # Extract the latitude and longitude from the geohash\n",
    "    lat, lon = decode(g)    \n",
    "    # Add a marker to the map at the geohash location\n",
    "    folium.Marker(location=[lat, lon], popup=g).add_to(t)\n",
    "t"
   ]
  },
  {
   "cell_type": "code",
   "execution_count": null,
   "id": "305aa096",
   "metadata": {},
   "outputs": [],
   "source": [
    "# We use five specific locations (Arizona, San Francisco, New York, Fresno, and Colorado) for travel predictions. Our \n",
    "# prediction parameters include temperature, cloud cover, and humidity. We compare the monthly average values of these\n",
    "# parameters in each region using the first four characters of their geohash. To make predictions, we compare the \n",
    "# average values with predefined criteria. The temperature should fall within a 10% range, humidity within 25% of our \n",
    "# specified value, and cloud cover within 50% of our value. Based on these comparisons, we assess the suitability of \n",
    "# the locations for travel according to the given criteria.\n",
    "\n",
    "# Grand canyon Arizona(9qrh) - December, January, March\n",
    "# Panhandle san francisco(9q8y) - November, December, May, April, March, July, January\n",
    "# New york (dr5r) - May, October, August, June\n",
    "# Fresno (9qd2) - December, January, March\n",
    "# Colorado (9x58) - September"
   ]
  },
  {
   "cell_type": "code",
   "execution_count": 17,
   "id": "528070da",
   "metadata": {},
   "outputs": [
    {
     "name": "stderr",
     "output_type": "stream",
     "text": [
      "[Stage 52:=====================================================>  (21 + 1) / 22]\r"
     ]
    },
    {
     "name": "stdout",
     "output_type": "stream",
     "text": [
      "[(37.491989, -121.952673), (37.513057, -121.820522), (37.323334, -122.321857), (37.344703, -122.189984), (37.365968, -122.058057), (37.408186, -121.794052), (37.42914, -121.661969), (37.596798, -121.979318), (37.387129, -121.92608), (37.534022, -121.688315), (37.701559, -122.006016), (37.303266, -121.767633), (37.80627, -122.032765), (37.282221, -121.899539), (37.910929, -122.059566), (37.680363, -122.138363), (37.889711, -122.192162), (37.785063, -122.165236), (37.951537, -122.484425), (37.929995, -122.616986), (37.825431, -122.589635), (37.846961, -122.457198), (37.63766, -122.402903), (37.532933, -122.375835)]\n"
     ]
    },
    {
     "name": "stderr",
     "output_type": "stream",
     "text": [
      "                                                                                \r"
     ]
    },
    {
     "data": {
      "text/html": [
       "<div style=\"width:100%;\"><div style=\"position:relative;width:100%;height:0;padding-bottom:60%;\"><span style=\"color:#565656\">Make this Notebook Trusted to load map: File -> Trust Notebook</span><iframe srcdoc=\"&lt;!DOCTYPE html&gt;\n",
       "&lt;html&gt;\n",
       "&lt;head&gt;\n",
       "    \n",
       "    &lt;meta http-equiv=&quot;content-type&quot; content=&quot;text/html; charset=UTF-8&quot; /&gt;\n",
       "    \n",
       "        &lt;script&gt;\n",
       "            L_NO_TOUCH = false;\n",
       "            L_DISABLE_3D = false;\n",
       "        &lt;/script&gt;\n",
       "    \n",
       "    &lt;style&gt;html, body {width: 100%;height: 100%;margin: 0;padding: 0;}&lt;/style&gt;\n",
       "    &lt;style&gt;#map {position:absolute;top:0;bottom:0;right:0;left:0;}&lt;/style&gt;\n",
       "    &lt;script src=&quot;https://cdn.jsdelivr.net/npm/leaflet@1.9.3/dist/leaflet.js&quot;&gt;&lt;/script&gt;\n",
       "    &lt;script src=&quot;https://code.jquery.com/jquery-1.12.4.min.js&quot;&gt;&lt;/script&gt;\n",
       "    &lt;script src=&quot;https://cdn.jsdelivr.net/npm/bootstrap@5.2.2/dist/js/bootstrap.bundle.min.js&quot;&gt;&lt;/script&gt;\n",
       "    &lt;script src=&quot;https://cdnjs.cloudflare.com/ajax/libs/Leaflet.awesome-markers/2.0.2/leaflet.awesome-markers.js&quot;&gt;&lt;/script&gt;\n",
       "    &lt;link rel=&quot;stylesheet&quot; href=&quot;https://cdn.jsdelivr.net/npm/leaflet@1.9.3/dist/leaflet.css&quot;/&gt;\n",
       "    &lt;link rel=&quot;stylesheet&quot; href=&quot;https://cdn.jsdelivr.net/npm/bootstrap@5.2.2/dist/css/bootstrap.min.css&quot;/&gt;\n",
       "    &lt;link rel=&quot;stylesheet&quot; href=&quot;https://netdna.bootstrapcdn.com/bootstrap/3.0.0/css/bootstrap.min.css&quot;/&gt;\n",
       "    &lt;link rel=&quot;stylesheet&quot; href=&quot;https://cdn.jsdelivr.net/npm/@fortawesome/fontawesome-free@6.2.0/css/all.min.css&quot;/&gt;\n",
       "    &lt;link rel=&quot;stylesheet&quot; href=&quot;https://cdnjs.cloudflare.com/ajax/libs/Leaflet.awesome-markers/2.0.2/leaflet.awesome-markers.css&quot;/&gt;\n",
       "    &lt;link rel=&quot;stylesheet&quot; href=&quot;https://cdn.jsdelivr.net/gh/python-visualization/folium/folium/templates/leaflet.awesome.rotate.min.css&quot;/&gt;\n",
       "    \n",
       "            &lt;meta name=&quot;viewport&quot; content=&quot;width=device-width,\n",
       "                initial-scale=1.0, maximum-scale=1.0, user-scalable=no&quot; /&gt;\n",
       "            &lt;style&gt;\n",
       "                #map_da0b18065e3feadb78c94996095cacff {\n",
       "                    position: relative;\n",
       "                    width: 100.0%;\n",
       "                    height: 100.0%;\n",
       "                    left: 0.0%;\n",
       "                    top: 0.0%;\n",
       "                }\n",
       "                .leaflet-container { font-size: 1rem; }\n",
       "            &lt;/style&gt;\n",
       "        \n",
       "&lt;/head&gt;\n",
       "&lt;body&gt;\n",
       "    \n",
       "    \n",
       "            &lt;div class=&quot;folium-map&quot; id=&quot;map_da0b18065e3feadb78c94996095cacff&quot; &gt;&lt;/div&gt;\n",
       "        \n",
       "&lt;/body&gt;\n",
       "&lt;script&gt;\n",
       "    \n",
       "    \n",
       "            var map_da0b18065e3feadb78c94996095cacff = L.map(\n",
       "                &quot;map_da0b18065e3feadb78c94996095cacff&quot;,\n",
       "                {\n",
       "                    center: [37.491989, -121.952673],\n",
       "                    crs: L.CRS.EPSG3857,\n",
       "                    zoom: 10,\n",
       "                    zoomControl: true,\n",
       "                    preferCanvas: false,\n",
       "                }\n",
       "            );\n",
       "\n",
       "            \n",
       "\n",
       "        \n",
       "    \n",
       "            var tile_layer_e7a87ff789eb22fa677215368f315061 = L.tileLayer(\n",
       "                &quot;https://{s}.tile.openstreetmap.org/{z}/{x}/{y}.png&quot;,\n",
       "                {&quot;attribution&quot;: &quot;Data by \\u0026copy; \\u003ca target=\\&quot;_blank\\&quot; href=\\&quot;http://openstreetmap.org\\&quot;\\u003eOpenStreetMap\\u003c/a\\u003e, under \\u003ca target=\\&quot;_blank\\&quot; href=\\&quot;http://www.openstreetmap.org/copyright\\&quot;\\u003eODbL\\u003c/a\\u003e.&quot;, &quot;detectRetina&quot;: false, &quot;maxNativeZoom&quot;: 18, &quot;maxZoom&quot;: 18, &quot;minZoom&quot;: 0, &quot;noWrap&quot;: false, &quot;opacity&quot;: 1, &quot;subdomains&quot;: &quot;abc&quot;, &quot;tms&quot;: false}\n",
       "            ).addTo(map_da0b18065e3feadb78c94996095cacff);\n",
       "        \n",
       "    \n",
       "            var marker_805e925e9506bfeaa01d28c364f966ca = L.marker(\n",
       "                [37.491989, -121.952673],\n",
       "                {}\n",
       "            ).addTo(map_da0b18065e3feadb78c94996095cacff);\n",
       "        \n",
       "    \n",
       "            var marker_1b810ca20e17477a3cb576432c223e56 = L.marker(\n",
       "                [37.513057, -121.820522],\n",
       "                {}\n",
       "            ).addTo(map_da0b18065e3feadb78c94996095cacff);\n",
       "        \n",
       "    \n",
       "            var marker_74eedc1437bd5818d731c9133a353e36 = L.marker(\n",
       "                [37.323334, -122.321857],\n",
       "                {}\n",
       "            ).addTo(map_da0b18065e3feadb78c94996095cacff);\n",
       "        \n",
       "    \n",
       "            var marker_30aaa44bf9eb271ef1a58d8c1978da1a = L.marker(\n",
       "                [37.344703, -122.189984],\n",
       "                {}\n",
       "            ).addTo(map_da0b18065e3feadb78c94996095cacff);\n",
       "        \n",
       "    \n",
       "            var marker_fcd74e06140c5c53b136278059741079 = L.marker(\n",
       "                [37.365968, -122.058057],\n",
       "                {}\n",
       "            ).addTo(map_da0b18065e3feadb78c94996095cacff);\n",
       "        \n",
       "    \n",
       "            var marker_0422b44b753b3a82590aa5d43fad9dd4 = L.marker(\n",
       "                [37.408186, -121.794052],\n",
       "                {}\n",
       "            ).addTo(map_da0b18065e3feadb78c94996095cacff);\n",
       "        \n",
       "    \n",
       "            var marker_481181fa9eacc737ff1209c4c9d8021f = L.marker(\n",
       "                [37.42914, -121.661969],\n",
       "                {}\n",
       "            ).addTo(map_da0b18065e3feadb78c94996095cacff);\n",
       "        \n",
       "    \n",
       "            var marker_a059f619f0dec5c23fdcfae7d69a4905 = L.marker(\n",
       "                [37.596798, -121.979318],\n",
       "                {}\n",
       "            ).addTo(map_da0b18065e3feadb78c94996095cacff);\n",
       "        \n",
       "    \n",
       "            var marker_88908e76e82fc813456cf1e40b6ca270 = L.marker(\n",
       "                [37.387129, -121.92608],\n",
       "                {}\n",
       "            ).addTo(map_da0b18065e3feadb78c94996095cacff);\n",
       "        \n",
       "    \n",
       "            var marker_71369800809ffd2d9de312466837f78d = L.marker(\n",
       "                [37.534022, -121.688315],\n",
       "                {}\n",
       "            ).addTo(map_da0b18065e3feadb78c94996095cacff);\n",
       "        \n",
       "    \n",
       "            var marker_671edc18c724ed89fb9279ac3bada648 = L.marker(\n",
       "                [37.701559, -122.006016],\n",
       "                {}\n",
       "            ).addTo(map_da0b18065e3feadb78c94996095cacff);\n",
       "        \n",
       "    \n",
       "            var marker_f31866d611bd339a85d462ae082e60cb = L.marker(\n",
       "                [37.303266, -121.767633],\n",
       "                {}\n",
       "            ).addTo(map_da0b18065e3feadb78c94996095cacff);\n",
       "        \n",
       "    \n",
       "            var marker_5bcd48cfccc257d581af9fc8f25bb844 = L.marker(\n",
       "                [37.80627, -122.032765],\n",
       "                {}\n",
       "            ).addTo(map_da0b18065e3feadb78c94996095cacff);\n",
       "        \n",
       "    \n",
       "            var marker_15e089b93c3cc2dbba4b196f1049b700 = L.marker(\n",
       "                [37.282221, -121.899539],\n",
       "                {}\n",
       "            ).addTo(map_da0b18065e3feadb78c94996095cacff);\n",
       "        \n",
       "    \n",
       "            var marker_c45141a6e971b92ed837e59386716c28 = L.marker(\n",
       "                [37.910929, -122.059566],\n",
       "                {}\n",
       "            ).addTo(map_da0b18065e3feadb78c94996095cacff);\n",
       "        \n",
       "    \n",
       "            var marker_8acb9b876ba8f7a95966e0faa4385343 = L.marker(\n",
       "                [37.680363, -122.138363],\n",
       "                {}\n",
       "            ).addTo(map_da0b18065e3feadb78c94996095cacff);\n",
       "        \n",
       "    \n",
       "            var marker_53e9cd631425c0dd7c08d1084e6b9bb0 = L.marker(\n",
       "                [37.889711, -122.192162],\n",
       "                {}\n",
       "            ).addTo(map_da0b18065e3feadb78c94996095cacff);\n",
       "        \n",
       "    \n",
       "            var marker_b712bb19cd10be579e25a171da14569d = L.marker(\n",
       "                [37.785063, -122.165236],\n",
       "                {}\n",
       "            ).addTo(map_da0b18065e3feadb78c94996095cacff);\n",
       "        \n",
       "    \n",
       "            var marker_ed233bea68d7a1b11e510ae8ed1d2279 = L.marker(\n",
       "                [37.951537, -122.484425],\n",
       "                {}\n",
       "            ).addTo(map_da0b18065e3feadb78c94996095cacff);\n",
       "        \n",
       "    \n",
       "            var marker_c8964d9322d2dd81e46902be5a526bd9 = L.marker(\n",
       "                [37.929995, -122.616986],\n",
       "                {}\n",
       "            ).addTo(map_da0b18065e3feadb78c94996095cacff);\n",
       "        \n",
       "    \n",
       "            var marker_5b5ee823e5a1619c54e359dbf4df821f = L.marker(\n",
       "                [37.825431, -122.589635],\n",
       "                {}\n",
       "            ).addTo(map_da0b18065e3feadb78c94996095cacff);\n",
       "        \n",
       "    \n",
       "            var marker_ff8fb8bfc55b39c9059f2c596ca21816 = L.marker(\n",
       "                [37.846961, -122.457198],\n",
       "                {}\n",
       "            ).addTo(map_da0b18065e3feadb78c94996095cacff);\n",
       "        \n",
       "    \n",
       "            var marker_f9a34379f0b3507e463cf94237964f86 = L.marker(\n",
       "                [37.63766, -122.402903],\n",
       "                {}\n",
       "            ).addTo(map_da0b18065e3feadb78c94996095cacff);\n",
       "        \n",
       "    \n",
       "            var marker_9d3c367efdeade5f39e773ed7d4e8d08 = L.marker(\n",
       "                [37.532933, -122.375835],\n",
       "                {}\n",
       "            ).addTo(map_da0b18065e3feadb78c94996095cacff);\n",
       "        \n",
       "&lt;/script&gt;\n",
       "&lt;/html&gt;\" style=\"position:absolute;width:100%;height:100%;left:0;top:0;border:none !important;\" allowfullscreen webkitallowfullscreen mozallowfullscreen></iframe></div></div>"
      ],
      "text/plain": [
       "<folium.folium.Map at 0x7f89ba703760>"
      ]
     },
     "execution_count": 17,
     "metadata": {},
     "output_type": "execute_result"
    }
   ],
   "source": [
    "# Escaping the fog: After becoming rich from your startup, you are looking for the perfect location to build your Bay \n",
    "# Area mansion with unobstructed views. Find the locations that are the least foggy and show them on a map.\n",
    "from IPython.display import display, HTML\n",
    "from pygeohash import decode\n",
    "import folium\n",
    "\n",
    "\n",
    "fogResult = spark.sql(\"SELECT geohash, \\\n",
    "                              AVG(visibility_surface) as visSurface, \\\n",
    "                              AVG(albedo_surface) as avgSurface, \\\n",
    "                              wilting_point_surface \\\n",
    "                       FROM df_temp \\\n",
    "                       WHERE (geohash LIKE '9q8y%' \\\n",
    "                          OR geohash LIKE '9q8z%' \\\n",
    "                          OR geohash LIKE '9q9h%' \\\n",
    "                          OR geohash LIKE '9q9k%' \\\n",
    "                          OR geohash LIKE '9q9m%' \\\n",
    "                          OR geohash LIKE '9q9p%' \\\n",
    "                          OR geohash LIKE '9q8v%' \\\n",
    "                          OR geohash LIKE '9q9n%') \\\n",
    "                          AND (wilting_point_surface > 0.0) \\\n",
    "                       GROUP BY geohash, wilting_point_surface \\\n",
    "                       ORDER BY avgSurface desc, visSurface desc\").collect()\n",
    "\n",
    "cordinates_list = []\n",
    "i = 0\n",
    "\n",
    "for x in fogResult:\n",
    "#     print(fogResult[i][0],\" \",fogResult[i][1],\" \" ,fogResult[i][2],\" \",fogResult[i][3])\n",
    "    cordinates_list.append(decode(fogResult[i][0]))\n",
    "    i += 1\n",
    "print(cordinates_list) \n",
    "\n",
    "      \n",
    "m = folium.Map(location=[37.491989, -121.952673], zoom_start=10)\n",
    "\n",
    "# Add markers for each set of coordinates\n",
    "for coord in cordinates_list:\n",
    "    folium.Marker(coord).add_to(m)\n",
    "\n",
    "# Display the map\n",
    "m"
   ]
  },
  {
   "cell_type": "code",
   "execution_count": 34,
   "id": "4d5bf900",
   "metadata": {},
   "outputs": [
    {
     "name": "stderr",
     "output_type": "stream",
     "text": [
      "                                                                                \r"
     ]
    },
    {
     "name": "stdout",
     "output_type": "stream",
     "text": [
      "Top three solar farms\n",
      "Geohash:9mtzhd, Avg total_cloud_cover_entire_atmosphere_single_layer: 4.973684\n",
      "Geohash:9mv6vz, Avg total_cloud_cover_entire_atmosphere_single_layer: 5.635659\n",
      "Geohash:9mwh9p, Avg total_cloud_cover_entire_atmosphere_single_layer: 5.769231\n"
     ]
    },
    {
     "name": "stderr",
     "output_type": "stream",
     "text": [
      "                                                                                \r"
     ]
    },
    {
     "name": "stdout",
     "output_type": "stream",
     "text": [
      "Top three wind farms\n",
      "Geohash:9xkzng, Avg wind_speed_gust_surface: 10.506980859999999\n",
      "Geohash:9xsc6w, Avg wind_speed_gust_surface: 10.409824772481203\n",
      "Geohash:9xmnd4, Avg wind_speed_gust_surface: 10.40498561470588\n"
     ]
    },
    {
     "name": "stderr",
     "output_type": "stream",
     "text": [
      "                                                                                \r"
     ]
    },
    {
     "name": "stdout",
     "output_type": "stream",
     "text": [
      "Top three wind and solar farms\n",
      "Geohash:c19ewq, Score: 1180.430376615631\n",
      "Geohash:c196jz, Score: 1166.7002720722528\n",
      "Geohash:c1c1pw, Score: 1155.0288341570981\n"
     ]
    }
   ],
   "source": [
    "# SolarWind, Inc.: After getting rich from your travel startup you get bored and start a new company; here, you want to \n",
    "#     help power companies plan out the locations of solar and wind farms across North America. Locate the top 3 places \n",
    "#     for solar and wind farms, as well as a combination of both (solar + wind farm). You will report a total of 9 \n",
    "#     Geohashes as well as their relevant attributes (for example, cloud cover and wind speeds).\n",
    "solarFarms = spark.sql(\"SELECT \\\n",
    "                            SUBSTRING(geohash,1,6) as prefix, \\\n",
    "                            AVG(CAST(total_cloud_cover_entire_atmosphere_single_layer AS DECIMAL(10,2))) as cloudCover, \\\n",
    "                            wilting_point_surface \\\n",
    "                        FROM df_temp \\\n",
    "                        WHERE (geohash LIKE 'c%' or geohash LIKE '9%') and  wilting_point_surface > 0.0 \\\n",
    "                        GROUP BY prefix, wilting_point_surface \\\n",
    "                        ORDER BY cloudCover\").collect()\n",
    "\n",
    "print(\"Top three solar farms\")\n",
    "print(\"Geohash:\" + str(solarFarms[0][0]) + \", Avg total_cloud_cover_entire_atmosphere_single_layer: \" + str(solarFarms[0][1]))\n",
    "print(\"Geohash:\" + str(solarFarms[1][0]) + \", Avg total_cloud_cover_entire_atmosphere_single_layer: \" + str(solarFarms[1][1]))\n",
    "print(\"Geohash:\" + str(solarFarms[2][0]) + \", Avg total_cloud_cover_entire_atmosphere_single_layer: \" + str(solarFarms[2][1]))\n",
    "\n",
    "\n",
    "\n",
    "windFarms = spark.sql(\"SELECT \\\n",
    "                            SUBSTRING(geohash,1,6) as prefix, \\\n",
    "                            AVG(wind_speed_gust_surface) as avgWind, \\\n",
    "                            wilting_point_surface \\\n",
    "                        FROM df_temp \\\n",
    "                        WHERE (geohash LIKE 'c%' or geohash LIKE '9%') and  wilting_point_surface > 0.0 \\\n",
    "                        GROUP BY prefix, wilting_point_surface \\\n",
    "                        ORDER BY avgWind desc\").collect()\n",
    "\n",
    "print(\"Top three wind farms\")\n",
    "print(\"Geohash:\" + str(windFarms[0][0]) + \", Avg wind_speed_gust_surface: \" + str(windFarms[0][1]))\n",
    "print(\"Geohash:\" + str(windFarms[1][0]) + \", Avg wind_speed_gust_surface: \" + str(windFarms[1][1]))\n",
    "print(\"Geohash:\" + str(windFarms[2][0]) + \", Avg wind_speed_gust_surface: \" + str(windFarms[2][1]))\n",
    "\n",
    "maxWindSpeed = spark.sql(\"SELECT MAX(wind_speed_gust_surface) FROM df_temp\").collect()\n",
    "\n",
    "windAndSolarFarms = spark.sql(f\"SELECT \\\n",
    "                                     SUBSTRING(geohash,1,6) as prefix, \\\n",
    "                                     AVG(wind_speed_gust_surface) as avgWind, \\\n",
    "                                     AVG(CAST(total_cloud_cover_entire_atmosphere_single_layer AS DECIMAL(10,2))) as cloudCover, \\\n",
    "                                     wilting_point_surface \\\n",
    "                                 FROM df_temp \\\n",
    "                                 WHERE (geohash LIKE 'c%' or geohash LIKE '9%') and  wilting_point_surface > 0.0 \\\n",
    "                                 GROUP BY prefix, wilting_point_surface \\\n",
    "                                 ORDER BY ((avgWind/ {maxWindSpeed[0][0]} )*100)*cloudCover desc\").collect()\n",
    "\n",
    "first = windAndSolarFarms[0]\n",
    "second = windAndSolarFarms[1]\n",
    "third = windAndSolarFarms[2]\n",
    "\n",
    "print(\"Top three wind and solar farms\")\n",
    "print(\"Geohash:\" + str(first[0]) + \", Score:\", str(first[1]/maxWindSpeed[0][0]*100 * float((first[2]))))\n",
    "print(\"Geohash:\" + str(second[0]) + \", Score:\", str(second[1]/maxWindSpeed[0][0]*100 * float((second[2]))))\n",
    "print(\"Geohash:\" + str(third[0]) + \", Score:\", str(third[1]/maxWindSpeed[0][0]*100 * float((third[2]))))"
   ]
  },
  {
   "cell_type": "code",
   "execution_count": null,
   "id": "b697bb6b",
   "metadata": {},
   "outputs": [],
   "source": [
    "# Weather Station: Write a multi-threaded server (outside of Spark) that reads files from the dataset — one file per \n",
    "# thread — and then streams them out on a socket for a Spark streaming context to consume (note: not ALL the \n",
    "# files have to be opened at once! :-)). The program should produce records as fast as the network will support, i.e., \n",
    "# faster than real time. Using Spark, consume the streams and then:\n",
    "\n",
    "# Choose five geographical locations to aggregate. You will filter out any other locations present in the streams.\n",
    "# Build an online summary of surface temperature, pressure, humidity, precipitation, visibility, and wind speed for the\n",
    "# geographical locations you selected.Produce a visual overview of these summaries. You have freedom to show the data \n",
    "# however you’d like, but the idea here is to give the viewer a high-level summary of the weather in different locations\n",
    "# and how it is changing in real time (well, actually faster than real time in this case!). A basic approach could be to\n",
    "# show each metric separately on a 5-by-6 grid. Your visualization should either update in place in the Jupyter notebook\n",
    "# as data arrives, or you can build a video by exporting each frame of the visualization to a file and then combining \n",
    "# them.Turn in a video of your weather station in action.\n",
    "\n"
   ]
  },
  {
   "cell_type": "code",
   "execution_count": null,
   "id": "24c20184",
   "metadata": {},
   "outputs": [],
   "source": [
    "# We created server.go and tried to connect to the spark streaming but didnt work for us."
   ]
  },
  {
   "cell_type": "code",
   "execution_count": 45,
   "id": "2497b732",
   "metadata": {},
   "outputs": [
    {
     "name": "stdout",
     "output_type": "stream",
     "text": [
      "+--------------------+------+\n",
      "|            features| label|\n",
      "+--------------------+------+\n",
      "|[19.3,1.0,17.0,0....|   0.0|\n",
      "|[17.0,13.0,40.0,0...|4.0E-5|\n",
      "|[20.3,26.9,13.0,0...|   0.0|\n",
      "|[6.0,0.0,23.0,0.0...|   0.0|\n",
      "|[16.0,18.4,14.0,0...|   0.0|\n",
      "|[13.9,28.2,18.0,0...|   0.0|\n",
      "|[17.3,25.1,12.0,0...|   0.0|\n",
      "|[18.3,31.0,35.0,0...|   0.0|\n",
      "|[19.6,28.1,22.0,0...|   0.0|\n",
      "|[6.0,0.0,10.0,0.0...|   0.0|\n",
      "|[18.7,26.0,24.0,0...|   0.0|\n",
      "|[17.6,17.9,14.0,0...|   0.0|\n",
      "|[17.0,6.0,39.0,0....|   0.0|\n",
      "|[6.0,0.0,19.0,0.0...|   0.0|\n",
      "|[25.5,8.1,55.0,0....|   0.0|\n",
      "|[6.0,0.0,5.0,0.0,...|   0.0|\n",
      "|[17.0,1.0,29.0,0....|   0.0|\n",
      "|[22.7,1.0,14.0,0....|   0.0|\n",
      "|[23.9,15.0,30.0,0...|   0.0|\n",
      "|[17.0,9.0,34.0,0....|   0.0|\n",
      "+--------------------+------+\n",
      "only showing top 20 rows\n",
      "\n"
     ]
    }
   ],
   "source": [
    "# Prediction/Classification: Revisit any of the problems above and enhance them using machine learning models from \n",
    "# MLlib. You will need to explain:\n",
    "# The feature you will predict/classify\n",
    "# Features used to train the model\n",
    "# How you partitioned your data\n",
    "# How the prediction/classification improves your analysis\n",
    "\n",
    "from pyspark.ml.feature import VectorAssembler\n",
    "\n",
    "def prepare_data(dframe, predictors, target):\n",
    "    assembler = VectorAssembler(inputCols=predictors, outputCol=\"features\")\n",
    "    output = assembler.transform(dframe)\n",
    "    return output.select(\"features\", target).withColumnRenamed(target, \"label\")\n",
    "\n",
    "\n",
    "prepped = prepare_data(df,\n",
    "    [ \n",
    "     \"albedo_surface\", \n",
    "     \"vegetation_surface\",\n",
    "     \"relative_humidity_zerodegc_isotherm\",\n",
    "     \"total_precipitation_surface_3_hour_accumulation\",\n",
    "     \"temperature_surface\"\n",
    "    ],\n",
    "    \"snow_depth_surface\")\n",
    "\n",
    "prepped.show()\n",
    "(trainingData, testData) = prepped.randomSplit([0.8, 0.2])"
   ]
  },
  {
   "cell_type": "code",
   "execution_count": 46,
   "id": "43e15809",
   "metadata": {},
   "outputs": [
    {
     "name": "stderr",
     "output_type": "stream",
     "text": [
      "WARNING: An illegal reflective access operation has occurred                    \n",
      "WARNING: Illegal reflective access by org.apache.spark.util.SizeEstimator$ (file:/bigdata/spark-3.3.2-bin-hadoop3/jars/spark-core_2.12-3.3.2.jar) to field java.nio.charset.Charset.name\n",
      "WARNING: Please consider reporting this to the maintainers of org.apache.spark.util.SizeEstimator$\n",
      "WARNING: Use --illegal-access=warn to enable warnings of further illegal reflective access operations\n",
      "WARNING: All illegal access operations will be denied in a future release\n",
      "[Stage 322:====================================================>  (21 + 1) / 22]\r"
     ]
    },
    {
     "name": "stdout",
     "output_type": "stream",
     "text": [
      "Root Mean Squared Error (RMSE) on test data = 0.0170701\n"
     ]
    },
    {
     "name": "stderr",
     "output_type": "stream",
     "text": [
      "                                                                                \r"
     ]
    }
   ],
   "source": [
    "from pyspark.ml.regression import RandomForestRegressor\n",
    "from pyspark.ml.evaluation import RegressionEvaluator\n",
    "\n",
    "rf = RandomForestRegressor(numTrees=100, maxDepth=5, maxBins=32)\n",
    "model = rf.fit(trainingData)\n",
    "predictions = model.transform(testData)\n",
    "\n",
    "evaluator = RegressionEvaluator(\n",
    "    labelCol=\"label\", predictionCol=\"prediction\", metricName=\"rmse\")\n",
    "rmse = evaluator.evaluate(predictions)\n",
    "print(\"Root Mean Squared Error (RMSE) on test data = %g\" % rmse)"
   ]
  },
  {
   "cell_type": "code",
   "execution_count": 47,
   "id": "8527c8b8",
   "metadata": {},
   "outputs": [
    {
     "name": "stderr",
     "output_type": "stream",
     "text": [
      "                                                                                \r"
     ]
    },
    {
     "data": {
      "image/png": "[encoded data removed]",
      "text/plain": [
       "<Figure size 640x480 with 1 Axes>"
      ]
     },
     "metadata": {},
     "output_type": "display_data"
    }
   ],
   "source": [
    "\n",
    "import matplotlib.pyplot as plt\n",
    "\n",
    "p_df = predictions.select(\"label\", \"prediction\").toPandas()\n",
    "\n",
    "plt.suptitle('Random Forest Regressor', fontsize=16)\n",
    "\n",
    "minval = p_df[['label', 'prediction']].min().min()\n",
    "maxval = p_df[['label', 'prediction']].max().max()\n",
    "plt.axis([minval, maxval, minval, maxval])\n",
    "\n",
    "plt.plot(p_df['label'], p_df['prediction'], '.', color='#2ba5f1')\n",
    "plt.plot(range(int(minval), int(maxval)), range(int(minval), int(maxval)), lw=3, dashes=(10, 3), color='#000000', alpha=0.25, label='Ideal Predictor')\n",
    "plt.show()\n"
   ]
  },
  {
   "cell_type": "code",
   "execution_count": null,
   "id": "92ea9f6e",
   "metadata": {},
   "outputs": [],
   "source": [
    "# Q.) The feature you will predict/classify: \"snow_depth_surface\"\n",
    "# Q.) Features used to train the model: \"albedo_surface\" \n",
    "#                                       \"vegetation_surface\"\n",
    "#                                       \"relative_humidity_zerodegc_isotherm\"\n",
    "#                                       \"total_precipitation_surface_3_hour_accumulation\"\n",
    "#                                       \"temperature_surface\"\n",
    "# Q.) How you partitioned your data: 80% for training and 20% for testing\n",
    "# Q.) How the prediction/classification improves your analysis: Based on the regression analysis conducted, \n",
    "#     which yielded a root mean square error (RMSE) of 0.0170701, we have developed a predictive model to estimate\n",
    "#     the snow depth for any new incoming point."
   ]
  }
 ],
 "metadata": {
  "kernelspec": {
   "display_name": "Python 3 (ipykernel)",
   "language": "python",
   "name": "python3"
  },
  "language_info": {
   "codemirror_mode": {
    "name": "ipython",
    "version": 3
   },
   "file_extension": ".py",
   "mimetype": "text/x-python",
   "name": "python",
   "nbconvert_exporter": "python",
   "pygments_lexer": "ipython3",
   "version": "3.10.9"
  }
 },
 "nbformat": 4,
 "nbformat_minor": 5
}
